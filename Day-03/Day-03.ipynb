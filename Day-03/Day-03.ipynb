{
 "cells": [
  {
   "cell_type": "markdown",
   "id": "24b004c2-3d20-49a8-88fe-04d7363a98e9",
   "metadata": {},
   "source": [
    "Day 3: 12Pm ML Master Course at iCodeGuru......\n",
    "1. Deep Dive into Python Libraries for Data Analysis\n",
    "\n",
    "Python is widely used for data analysis because it offers powerful libraries that simplify complex tasks. \n",
    "Let’s explore this in three levels:\n"
   ]
  },
  {
   "cell_type": "markdown",
   "id": "273d5e1a-cefc-45f4-abea-e7775cd7756b",
   "metadata": {},
   "source": [
    "Beginner Level\n",
    "\n",
    "What is Data Analysis?\n",
    "\n",
    "Data analysis is the process of inspecting, cleaning, and transforming data to extract useful insights."
   ]
  },
  {
   "cell_type": "code",
   "execution_count": 2,
   "id": "d91a2f51-b0fc-4175-84e6-87c6cd370756",
   "metadata": {},
   "outputs": [
    {
     "name": "stdout",
     "output_type": "stream",
     "text": [
      "      Name  Age\n",
      "0    Alice   25\n",
      "1      Bob   30\n",
      "2  Charlie   35\n"
     ]
    }
   ],
   "source": [
    "# Pandas: A library for manipulating and analyzing structured data (like tables).\n",
    "import pandas as pd\n",
    "# Example usage of Pandas\n",
    "data = {'Name': ['Alice', 'Bob', 'Charlie'], 'Age': [25, 30, 35]}\n",
    "df = pd.DataFrame(data)\n",
    "print(df)"
   ]
  },
  {
   "cell_type": "code",
   "execution_count": 3,
   "id": "17e4da3d-fe9f-473c-a083-33066fa208e6",
   "metadata": {},
   "outputs": [
    {
     "name": "stdout",
     "output_type": "stream",
     "text": [
      "3.0\n"
     ]
    }
   ],
   "source": [
    "# NumPy: A library for working with numerical data and performing fast mathematical operations.\n",
    "import numpy as np\n",
    "# Example usage of NumPy\n",
    "arr = np.array([1, 2, 3, 4, 5])\n",
    "print(arr.mean())"
   ]
  },
  {
   "cell_type": "code",
   "execution_count": null,
   "id": "13582560-e4c3-4d25-aa30-2d73eaa4435c",
   "metadata": {},
   "outputs": [],
   "source": [
    "# Matplotlib: A library for creating basic visualizations (e.g., line plots, bar charts).\n",
    "import matplotlib.pyplot as plt\n",
    "# Example usage of Matplotlib\n",
    "plt.plot([1, 2, 3], [4, 5, 6])\n",
    "plt.show()"
   ]
  },
  {
   "cell_type": "markdown",
   "id": "e44c91d0-b83e-49db-af48-3ee36201c44f",
   "metadata": {},
   "source": [
    "Intermediate Level"
   ]
  },
  {
   "cell_type": "code",
   "execution_count": null,
   "id": "8d5e76ac-00f6-46fb-8b49-85226462c47f",
   "metadata": {},
   "outputs": [],
   "source": [
    "# Seaborn: Built on top of Matplotlib, it simplifies the creation of complex visualizations.\n",
    "import seaborn as sns\n",
    "sns.barplot(x=['A', 'B', 'C'], y=[10, 20, 30])"
   ]
  },
  {
   "cell_type": "code",
   "execution_count": null,
   "id": "750bbbdd-76bf-492d-8daa-f5ab0ed64514",
   "metadata": {},
   "outputs": [],
   "source": [
    "\n",
    "# Scipy: Provides statistical and scientific computing tools.\n",
    "from scipy.stats import norm\n",
    "print(norm.mean(), norm.std())"
   ]
  },
  {
   "cell_type": "code",
   "execution_count": null,
   "id": "f5a67a8b-1260-4037-8593-591a8098b730",
   "metadata": {},
   "outputs": [],
   "source": [
    "# OpenPyXL: Used to handle Excel files during data analysis.\n",
    "from openpyxl import Workbook\n",
    "wb = Workbook()\n",
    "wb.save('example.xlsx')\n"
   ]
  },
  {
   "cell_type": "code",
   "execution_count": null,
   "id": "5e42d356-992f-4fca-84a6-847aaca13444",
   "metadata": {},
   "outputs": [],
   "source": []
  },
  {
   "cell_type": "markdown",
   "id": "062e27d0-1d96-4be4-9271-4b281d1e3c52",
   "metadata": {},
   "source": [
    "Real-World Use Cases:\n",
    "\n",
    "Analyzing sales data to find trends.\n",
    "\n",
    "Cleaning and preparing data for machine learning models.\n",
    "Basic Data Cleaning Tasks:"
   ]
  },
  {
   "cell_type": "code",
   "execution_count": null,
   "id": "0d55fc87-de05-4ac4-b3f0-d8723a82abd9",
   "metadata": {},
   "outputs": [],
   "source": [
    "# Handling missing values and removing duplicates using Pandas.\n",
    "df.dropna(inplace=True)\n",
    "df.drop_duplicates(inplace=True)\n",
    "\n",
    "# Filtering data based on conditions.\n",
    "filtered_df = df[df['Age'] > 25]\n",
    "print(filtered_df)"
   ]
  },
  {
   "cell_type": "markdown",
   "id": "7866fb03-70ab-43f9-a719-6ce198b77401",
   "metadata": {},
   "source": [
    "Advanced Level\n",
    "\n",
    "Advanced Pandas Features:"
   ]
  },
  {
   "cell_type": "code",
   "execution_count": null,
   "id": "34e9fad2-c1d0-4feb-b55b-95e11bc4c5a7",
   "metadata": {},
   "outputs": [],
   "source": [
    "# Multi-index DataFrames for hierarchical data.\n",
    "df = pd.DataFrame({'Team': ['A', 'B', 'A'], 'Points': [10, 20, 15]})\n",
    "print(df.groupby('Team')['Points'].sum())"
   ]
  },
  {
   "cell_type": "markdown",
   "id": "e662decb-d999-4fcf-a585-a82a868e115d",
   "metadata": {},
   "source": [
    "Performance Optimization:"
   ]
  },
  {
   "cell_type": "code",
   "execution_count": null,
   "id": "b8b1f38c-c7ef-4eb4-8e01-f6233fb1b0f5",
   "metadata": {},
   "outputs": [],
   "source": [
    "\n",
    "# Use NumPy for heavy computations instead of loops.\n",
    "large_array = np.random.rand(1000000)\n",
    "print(np.sum(large_array))"
   ]
  },
  {
   "cell_type": "markdown",
   "id": "15174a36-bb2c-4f94-bab7-81e3d9b99a97",
   "metadata": {},
   "source": [
    "Big Data Integration:\n",
    "\n",
    "Use Dask or PySpark for handling large datasets that don’t fit into memory."
   ]
  },
  {
   "cell_type": "markdown",
   "id": "c6e40c5c-f22a-4e1d-a7fc-17193953315f",
   "metadata": {},
   "source": [
    "2. Real-World Machine Learning Applications and Their Impact\n",
    "\n",
    "Machine learning (ML) is a subset of artificial intelligence (AI) where systems learn from data to make predictions or decisions.\n",
    "\n",
    "Beginner Level\n",
    "\n",
    "What is Machine Learning?\n",
    "\n",
    "ML teaches computers to learn patterns from data without being explicitly programmed.\n",
    "\n",
    "Common ML Applications:\n",
    "\n",
    "Healthcare: Diagnosing diseases like cancer through image analysis.\n",
    "\n",
    "E-commerce: Recommending products based on user preferences (e.g., Amazon).\n",
    "\n",
    "Transportation: Predicting traffic patterns or enabling self-driving cars.\n",
    "\n",
    "Simple ML Concepts:\n",
    "\n",
    "Supervised Learning: The model learns from labeled data (e.g., spam detection).\n",
    "\n",
    "Unsupervised Learning: The model finds patterns in unlabeled data (e.g., customer segmentation).\n",
    "\n",
    "Intermediate Level\n",
    "\n",
    "Impact of ML on Society:\n",
    "\n",
    "Automation of repetitive tasks (e.g., chatbots, customer support).\n",
    "\n",
    "Enhanced productivity in industries like agriculture, finance, and manufacturing.\n",
    "\n",
    "Libraries for ML:"
   ]
  },
  {
   "cell_type": "code",
   "execution_count": null,
   "id": "5344ed42-a2ed-4641-8a2d-7a6a44a6c48d",
   "metadata": {},
   "outputs": [],
   "source": [
    "# Scikit-learn: A library for building ML models.\n",
    "from sklearn.linear_model import LinearRegression\n",
    "model = LinearRegression()\n",
    "\n",
    "# TensorFlow & PyTorch: Libraries for building deep learning models.\n",
    "import tensorflow as tf\n",
    "import torch\n",
    "print(tf.__version__, torch.__version__)"
   ]
  },
  {
   "cell_type": "markdown",
   "id": "ed265c4d-62fc-42f9-9077-1da74e74e875",
   "metadata": {},
   "source": [
    "Popular Algorithms:\n",
    "\n",
    "Linear Regression.\n",
    "\n",
    "Decision Trees.\n",
    "\n",
    "Clustering (e.g., K-Means).\n",
    "\n",
    "Advanced Level\n",
    "\n",
    "Advanced Applications:\n",
    "\n",
    "Geo-AI: Using satellite images to analyze environmental changes.\n",
    "\n",
    "Vision-Language Models: Combining image and text data for tasks like captioning.\n",
    "\n",
    "Healthcare: Predicting diseases using genomic data.\n",
    "\n",
    "Challenges in ML:\n",
    "\n",
    "Handling biased or incomplete data.\n",
    "\n",
    "Ensuring fairness and transparency in decision-making.\n",
    "\n",
    "Advanced Techniques:"
   ]
  },
  {
   "cell_type": "code",
   "execution_count": null,
   "id": "0e8e587c-076b-4849-a792-bf76dec33af2",
   "metadata": {},
   "outputs": [],
   "source": [
    "# Neural networks for deep learning.\n",
    "from tensorflow.keras.models import Sequential\n",
    "from tensorflow.keras.layers import Dense\n",
    "\n",
    "model = Sequential([Dense(10, activation='relu'), Dense(1)])"
   ]
  },
  {
   "cell_type": "markdown",
   "id": "cdfc012e-0428-4e57-9547-372b4db9485a",
   "metadata": {},
   "source": [
    "3. Discuss Advanced Visualization Techniques\n",
    "\n",
    "Visualizations help us communicate insights effectively.\n",
    "\n",
    "Beginner Level\n",
    "\n",
    "Why Visualizations Matter:\n",
    "\n",
    "They make complex data easy to understand.\n"
   ]
  },
  {
   "cell_type": "markdown",
   "id": "72c4dfe2-f236-4841-9b5f-42afe1ce38c9",
   "metadata": {},
   "source": [
    "Basic Tools:"
   ]
  },
  {
   "cell_type": "code",
   "execution_count": null,
   "id": "534b3ec9-aec2-42ff-8df6-6620e5dbff94",
   "metadata": {},
   "outputs": [],
   "source": [
    "# Matplotlib: Line charts, bar charts, histograms.\n",
    "plt.hist([1, 2, 3, 4, 5])\n",
    "plt.show()\n",
    "\n",
    "# Seaborn: Heatmaps, pair plots, categorical plots.\n",
    "sns.heatmap([[1, 2], [3, 4]])\n",
    "plt.show()"
   ]
  },
  {
   "cell_type": "markdown",
   "id": "fe5ad7c7-5bb3-4044-bd02-918cf07223d0",
   "metadata": {},
   "source": [
    "Intermediate Level\n",
    "\n",
    "Advanced Tools:"
   ]
  },
  {
   "cell_type": "code",
   "execution_count": null,
   "id": "a53ec039-e887-478e-851f-cf2c44915719",
   "metadata": {},
   "outputs": [],
   "source": [
    "# Seaborn: Built on top of Matplotlib, it simplifies the creation of complex visualizations.\n",
    "import seaborn as sns\n",
    "sns.barplot(x=['A', 'B', 'C'], y=[10, 20, 30])\n",
    "\n",
    "# Scipy: Provides statistical and scientific computing tools.\n",
    "from scipy.stats import norm\n",
    "print(norm.mean(), norm.std())\n",
    "\n",
    "# OpenPyXL: Used to handle Excel files during data analysis.\n",
    "from openpyxl import Workbook\n",
    "wb = Workbook()\n",
    "wb.save('example.xlsx')"
   ]
  },
  {
   "cell_type": "markdown",
   "id": "4514fd7f-27e8-424a-9660-5945cc81a530",
   "metadata": {},
   "source": [
    "Advanced Techniques:\n",
    "\n",
    "3D visualizations to show data relationships.\n",
    "\n",
    "Layering multiple charts for comparative analysis.\n",
    "\n",
    "Advanced Level\n",
    "\n",
    "Storytelling with Data:\n",
    "\n",
    "Combine multiple charts into a cohesive narrative.\n",
    "\n",
    "Use annotations to highlight key points.\n",
    "\n",
    "Geospatial Visualizations:"
   ]
  },
  {
   "cell_type": "code",
   "execution_count": null,
   "id": "3d4b2301-35dd-4c89-ad37-46de6eb1eb31",
   "metadata": {},
   "outputs": [],
   "source": [
    "# Use libraries like Folium or Geopandas to map data.\n",
    "import folium\n",
    "map = folium.Map(location=[45.0, -93.0], zoom_start=10)\n",
    "map.save('map.html')"
   ]
  },
  {
   "cell_type": "markdown",
   "id": "34d9525d-d362-4bf5-a282-5ec9342ebc5e",
   "metadata": {},
   "source": [
    "Custom Dashboards:\n",
    "\n",
    "Combine tools like Dash, Streamlit, or Power BI for customized dashboards.\n",
    "\n",
    "Use them to monitor real-time metrics in businesses."
   ]
  },
  {
   "cell_type": "markdown",
   "id": "1b7ce6f6-2ba1-4f15-94ae-62085363d9ee",
   "metadata": {},
   "source": [
    "Start with basic libraries like Pandas, NumPy, and Matplotlib for data analysis.\n",
    "\n",
    "Explore real-world ML applications to understand how AI impacts industries.\n",
    "\n",
    "Master visualization libraries (Seaborn, Plotly, Dash) to communicate insights effectively.\n",
    "\n",
    "Gradually advance to handle big data, build ML models, and design custom dashboards.\n",
    "\n"
   ]
  }
 ],
 "metadata": {
  "kernelspec": {
   "display_name": "Python 3 (ipykernel)",
   "language": "python",
   "name": "python3"
  },
  "language_info": {
   "codemirror_mode": {
    "name": "ipython",
    "version": 3
   },
   "file_extension": ".py",
   "mimetype": "text/x-python",
   "name": "python",
   "nbconvert_exporter": "python",
   "pygments_lexer": "ipython3",
   "version": "3.12.7"
  }
 },
 "nbformat": 4,
 "nbformat_minor": 5
}
