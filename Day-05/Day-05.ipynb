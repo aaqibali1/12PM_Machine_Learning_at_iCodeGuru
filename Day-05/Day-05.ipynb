{
 "cells": [
  {
   "cell_type": "code",
   "execution_count": 2,
   "id": "a2f9d7b3-dd1c-4ee6-949a-b7e3e9cf918b",
   "metadata": {},
   "outputs": [],
   "source": [
    "import pandas as pd\n",
    "import numpy as np\n",
    "import matplotlib.pyplot as plt\n",
    "import seaborn as sns\n",
    "from sklearn.model_selection import train_test_split\n",
    "from sklearn.linear_model import LinearRegression\n",
    "from sklearn.metrics import mean_absolute_error, mean_squared_error, r2_score\n"
   ]
  },
  {
   "cell_type": "markdown",
   "id": "dc243f67-fbe7-41de-9197-204f8bdab753",
   "metadata": {},
   "source": [
    "Step 2: Load the Dataset\n",
    "Load your messy movie dataset into a Pandas DataFrame:"
   ]
  },
  {
   "cell_type": "code",
   "execution_count": 5,
   "id": "1f9a65fc-4a90-4028-9e73-db0d680522ff",
   "metadata": {},
   "outputs": [],
   "source": [
    "df = pd.read_csv(\"9249290-cost-revenue-clean.csv\")  # Replace with your actual dataset file\n"
   ]
  },
  {
   "cell_type": "markdown",
   "id": "2f8ab586-ff03-4711-8de5-981a577e1ee6",
   "metadata": {},
   "source": [
    "Check the first few rows:"
   ]
  },
  {
   "cell_type": "code",
   "execution_count": 6,
   "id": "dd606d8e-7867-4b57-bd2f-7c689943c933",
   "metadata": {},
   "outputs": [
    {
     "data": {
      "text/html": [
       "<div>\n",
       "<style scoped>\n",
       "    .dataframe tbody tr th:only-of-type {\n",
       "        vertical-align: middle;\n",
       "    }\n",
       "\n",
       "    .dataframe tbody tr th {\n",
       "        vertical-align: top;\n",
       "    }\n",
       "\n",
       "    .dataframe thead th {\n",
       "        text-align: right;\n",
       "    }\n",
       "</style>\n",
       "<table border=\"1\" class=\"dataframe\">\n",
       "  <thead>\n",
       "    <tr style=\"text-align: right;\">\n",
       "      <th></th>\n",
       "      <th>production_budget_usd</th>\n",
       "      <th>worldwide_gross_usd</th>\n",
       "    </tr>\n",
       "  </thead>\n",
       "  <tbody>\n",
       "    <tr>\n",
       "      <th>0</th>\n",
       "      <td>1000000</td>\n",
       "      <td>26</td>\n",
       "    </tr>\n",
       "    <tr>\n",
       "      <th>1</th>\n",
       "      <td>10000</td>\n",
       "      <td>401</td>\n",
       "    </tr>\n",
       "    <tr>\n",
       "      <th>2</th>\n",
       "      <td>400000</td>\n",
       "      <td>423</td>\n",
       "    </tr>\n",
       "    <tr>\n",
       "      <th>3</th>\n",
       "      <td>750000</td>\n",
       "      <td>450</td>\n",
       "    </tr>\n",
       "    <tr>\n",
       "      <th>4</th>\n",
       "      <td>10000</td>\n",
       "      <td>527</td>\n",
       "    </tr>\n",
       "  </tbody>\n",
       "</table>\n",
       "</div>"
      ],
      "text/plain": [
       "   production_budget_usd  worldwide_gross_usd\n",
       "0                1000000                   26\n",
       "1                  10000                  401\n",
       "2                 400000                  423\n",
       "3                 750000                  450\n",
       "4                  10000                  527"
      ]
     },
     "execution_count": 6,
     "metadata": {},
     "output_type": "execute_result"
    }
   ],
   "source": [
    "df.head()\n"
   ]
  },
  {
   "cell_type": "markdown",
   "id": "115ef40c-4657-41f2-823e-8ad0c91e2705",
   "metadata": {},
   "source": [
    "Step 3: Data Cleaning and Preprocessing\n",
    "3.1 Handling Missing Values\n",
    "Check for missing values:"
   ]
  },
  {
   "cell_type": "code",
   "execution_count": 7,
   "id": "2177bb1a-d611-468b-99d8-9c006f62042f",
   "metadata": {},
   "outputs": [
    {
     "data": {
      "text/plain": [
       "production_budget_usd    0\n",
       "worldwide_gross_usd      0\n",
       "dtype: int64"
      ]
     },
     "execution_count": 7,
     "metadata": {},
     "output_type": "execute_result"
    }
   ],
   "source": [
    "df.isnull().sum()\n"
   ]
  },
  {
   "cell_type": "markdown",
   "id": "4c8434e4-5ca4-4fa3-b13d-826557c48a2c",
   "metadata": {},
   "source": [
    "Drop columns with too many missing values or fill missing values appropriately:"
   ]
  },
  {
   "cell_type": "markdown",
   "id": "70ccc704-a633-465e-88b7-971258a71cd2",
   "metadata": {},
   "source": [
    "3.2 Handling Duplicates\n",
    "Check and remove duplicates:"
   ]
  },
  {
   "cell_type": "code",
   "execution_count": 8,
   "id": "667098c7-5f29-4e54-a6e6-e992954227a2",
   "metadata": {},
   "outputs": [],
   "source": [
    "df.duplicated().sum()\n",
    "df.drop_duplicates(inplace=True)\n"
   ]
  },
  {
   "cell_type": "markdown",
   "id": "4c0b194b-7345-4a09-896a-4b440f4c2ae5",
   "metadata": {},
   "source": [
    "3.3 Feature Selection\n",
    "Choose relevant features for revenue prediction. Common features include:\n",
    "\n",
    "Budget\n",
    "Duration\n",
    "Genres (One-Hot Encoding)\n",
    "Production Company\n",
    "Director\n",
    "Release Year\n",
    "Keep only relevant columns:"
   ]
  },
  {
   "cell_type": "code",
   "execution_count": 10,
   "id": "9f07a4c6-4345-4688-bc33-211af18569a6",
   "metadata": {},
   "outputs": [
    {
     "name": "stdout",
     "output_type": "stream",
     "text": [
      "Index(['production_budget_usd', 'worldwide_gross_usd'], dtype='object')\n"
     ]
    }
   ],
   "source": [
    "print(df.columns)\n"
   ]
  },
  {
   "cell_type": "code",
   "execution_count": 11,
   "id": "f8c47c05-d662-4ce1-9a7f-bb9b93dfa757",
   "metadata": {},
   "outputs": [],
   "source": [
    "df.rename(columns={'production_budget_usd': 'budget', 'worldwide_gross_usd': 'revenue'}, inplace=True)\n"
   ]
  },
  {
   "cell_type": "code",
   "execution_count": 12,
   "id": "ebdfa3d2-3835-45ae-b056-87178235dee1",
   "metadata": {},
   "outputs": [],
   "source": [
    "df = df[['budget', 'revenue']]\n"
   ]
  },
  {
   "cell_type": "markdown",
   "id": "c48d5b96-c774-4726-b676-d262bd61339b",
   "metadata": {},
   "source": [
    "Step 4: Exploratory Data Analysis (EDA)\n",
    "4.1 Checking Correlations\n",
    "Find relationships between revenue and other numerical features:"
   ]
  },
  {
   "cell_type": "code",
   "execution_count": 13,
   "id": "76333bb6-c93f-4517-aa5f-ae1557c57ee8",
   "metadata": {},
   "outputs": [
    {
     "data": {
      "image/png": "[encoded data removed]",
      "text/plain": [
       "<Figure size 800x600 with 2 Axes>"
      ]
     },
     "metadata": {},
     "output_type": "display_data"
    }
   ],
   "source": [
    "plt.figure(figsize=(8,6))\n",
    "sns.heatmap(df.corr(), annot=True, cmap='coolwarm')\n",
    "plt.show()\n"
   ]
  },
  {
   "cell_type": "markdown",
   "id": "2d84cdbe-be00-4ff4-9868-ba4ecfb8f890",
   "metadata": {},
   "source": [
    "4.2 Visualizing Data\n",
    "Scatter plot between budget and revenue:"
   ]
  },
  {
   "cell_type": "code",
   "execution_count": 14,
   "id": "7dd2bf12-569a-46c7-9a16-afec82205569",
   "metadata": {},
   "outputs": [
    {
     "data": {
      "image/png": "[encoded data removed]",
      "text/plain": [
       "<Figure size 800x600 with 1 Axes>"
      ]
     },
     "metadata": {},
     "output_type": "display_data"
    }
   ],
   "source": [
    "plt.figure(figsize=(8,6))\n",
    "sns.scatterplot(x=df['budget'], y=df['revenue'])\n",
    "plt.xlabel(\"Budget\")\n",
    "plt.ylabel(\"Revenue\")\n",
    "plt.title(\"Budget vs Revenue\")\n",
    "plt.show()\n"
   ]
  },
  {
   "cell_type": "markdown",
   "id": "674e9d5b-cb31-43e6-8d0d-bb17e549f4ee",
   "metadata": {},
   "source": [
    "Step 5: Feature Engineering\n",
    "5.1 Encoding Categorical Variables\n",
    "If you have categorical features (e.g., genres, director), use one-hot encoding:"
   ]
  },
  {
   "cell_type": "code",
   "execution_count": 16,
   "id": "9d5a7d33-416a-4c1b-ba43-d2d8d96b221c",
   "metadata": {},
   "outputs": [
    {
     "name": "stdout",
     "output_type": "stream",
     "text": [
      "Index(['budget', 'revenue'], dtype='object')\n"
     ]
    }
   ],
   "source": [
    "print(df.columns)\n"
   ]
  },
  {
   "cell_type": "markdown",
   "id": "ac9de56d-4e04-47de-890a-6a860b5a45d7",
   "metadata": {},
   "source": [
    "5.2 Handling Outliers\n",
    "Check for outliers using boxplots:"
   ]
  },
  {
   "cell_type": "code",
   "execution_count": null,
   "id": "69bc1142-21c7-4a69-843f-6315fb6432bd",
   "metadata": {},
   "outputs": [],
   "source": [
    "sns.boxplot(x=df['budget'])\n",
    "plt.show()\n"
   ]
  },
  {
   "cell_type": "markdown",
   "id": "11cdd59f-dc75-41e3-a1c7-ff114cfc594a",
   "metadata": {},
   "source": [
    "You can remove extreme outliers:"
   ]
  },
  {
   "cell_type": "code",
   "execution_count": null,
   "id": "5d9ce272-ea7e-4026-8557-b232ae927523",
   "metadata": {},
   "outputs": [],
   "source": [
    "df = df[df['budget'] < df['budget'].quantile(0.99)]  # Removing top 1% outliers\n"
   ]
  },
  {
   "cell_type": "code",
   "execution_count": null,
   "id": "44da4046-43f0-4fb4-8144-e453ef63c1a3",
   "metadata": {},
   "outputs": [],
   "source": [
    "Step 6: Splitting Data into Training and Testing Sets"
   ]
  },
  {
   "cell_type": "code",
   "execution_count": null,
   "id": "9e3dc40c-951e-48b9-b5ec-dafec24013d4",
   "metadata": {},
   "outputs": [],
   "source": [
    "X = df.drop(columns=['revenue'])  # Features\n",
    "y = df['revenue']  # Target variable\n",
    "\n",
    "X_train, X_test, y_train, y_test = train_test_split(X, y, test_size=0.2, random_state=42)\n"
   ]
  },
  {
   "cell_type": "markdown",
   "id": "10ffad18-3d82-4cfe-869f-b7a8329d1a25",
   "metadata": {},
   "source": [
    "Step 7: Train the Linear Regression Model"
   ]
  },
  {
   "cell_type": "code",
   "execution_count": null,
   "id": "83119e41-a0e8-4149-b129-350681f22a29",
   "metadata": {},
   "outputs": [],
   "source": [
    "model = LinearRegression()\n",
    "model.fit(X_train, y_train)\n"
   ]
  },
  {
   "cell_type": "markdown",
   "id": "8e5e6de6-7401-400d-a340-89acdaa52c7b",
   "metadata": {},
   "source": [
    "Step 8: Model Evaluation\n",
    "8.1 Predictions"
   ]
  },
  {
   "cell_type": "code",
   "execution_count": null,
   "id": "0735cda7-fe76-42cc-bce5-e387e993f803",
   "metadata": {},
   "outputs": [],
   "source": [
    "y_pred = model.predict(X_test)\n"
   ]
  },
  {
   "cell_type": "markdown",
   "id": "ffdc113d-1aff-40ed-81f6-0b5f69b9bc7b",
   "metadata": {},
   "source": [
    "8.2 Calculate Performance Metrics"
   ]
  },
  {
   "cell_type": "code",
   "execution_count": null,
   "id": "4478f471-1cdc-42d1-b98e-17bce507e2aa",
   "metadata": {},
   "outputs": [],
   "source": [
    "mae = mean_absolute_error(y_test, y_pred)\n",
    "mse = mean_squared_error(y_test, y_pred)\n",
    "rmse = np.sqrt(mse)\n",
    "r2 = r2_score(y_test, y_pred)\n",
    "\n",
    "print(f\"Mean Absolute Error (MAE): {mae}\")\n",
    "print(f\"Mean Squared Error (MSE): {mse}\")\n",
    "print(f\"Root Mean Squared Error (RMSE): {rmse}\")\n",
    "print(f\"R-squared Score (R2): {r2}\")\n"
   ]
  },
  {
   "cell_type": "markdown",
   "id": "57c9da6d-b7da-4437-b10e-1cacb88994d5",
   "metadata": {},
   "source": [
    "Step 9: Model Interpretation\n",
    "9.1 Check Model Coefficients"
   ]
  },
  {
   "cell_type": "code",
   "execution_count": null,
   "id": "6161aa35-2ad2-48a7-8352-57d46b736ba0",
   "metadata": {},
   "outputs": [],
   "source": [
    "coefficients = pd.DataFrame({'Feature': X_train.columns, 'Coefficient': model.coef_})\n",
    "print(coefficients)\n"
   ]
  },
  {
   "cell_type": "markdown",
   "id": "a9eeb37e-750c-4248-a858-5691e0f81cf6",
   "metadata": {},
   "source": [
    "9.2 Visualizing Predictions"
   ]
  },
  {
   "cell_type": "code",
   "execution_count": null,
   "id": "0205b3ed-33ef-4897-a5b7-a55507de9bbf",
   "metadata": {},
   "outputs": [],
   "source": [
    "plt.figure(figsize=(8,6))\n",
    "plt.scatter(y_test, y_pred)\n",
    "plt.xlabel(\"Actual Revenue\")\n",
    "plt.ylabel(\"Predicted Revenue\")\n",
    "plt.title(\"Actual vs Predicted Revenue\")\n",
    "plt.show()\n"
   ]
  },
  {
   "cell_type": "markdown",
   "id": "3bef064a-c832-4749-baef-acaf0ee43bbb",
   "metadata": {},
   "source": [
    "Step 10: Save and Deploy the Model\n",
    "Save the trained model for future use:"
   ]
  },
  {
   "cell_type": "code",
   "execution_count": null,
   "id": "64a02870-e713-432a-9b90-4d95e336766c",
   "metadata": {},
   "outputs": [],
   "source": [
    "import joblib\n",
    "\n",
    "joblib.dump(model, \"movie_revenue_predictor.pkl\")\n"
   ]
  },
  {
   "cell_type": "markdown",
   "id": "6c9a3cdf-8254-4dd2-b5fa-945b2a9cf53d",
   "metadata": {},
   "source": [
    "To load and use the model later:"
   ]
  },
  {
   "cell_type": "code",
   "execution_count": null,
   "id": "9ed8afbf-192a-4bb7-9be8-3cece1a374ad",
   "metadata": {},
   "outputs": [],
   "source": [
    "loaded_model = joblib.load(\"movie_revenue_predictor.pkl\")\n",
    "new_predictions = loaded_model.predict(X_test)\n"
   ]
  },
  {
   "cell_type": "markdown",
   "id": "3cce6afc-10fa-4ff5-915d-36480b7e6e19",
   "metadata": {},
   "source": [
    "Final Notes\n",
    "Loading and cleaning messy movie data\n",
    "Feature selection and encoding\n",
    "Applying Linear Regression\n",
    "Evaluating model performance\n",
    "Visualizing results\n",
    "Saving the model for future use"
   ]
  }
 ],
 "metadata": {
  "kernelspec": {
   "display_name": "Python 3 (ipykernel)",
   "language": "python",
   "name": "python3"
  },
  "language_info": {
   "codemirror_mode": {
    "name": "ipython",
    "version": 3
   },
   "file_extension": ".py",
   "mimetype": "text/x-python",
   "name": "python",
   "nbconvert_exporter": "python",
   "pygments_lexer": "ipython3",
   "version": "3.12.7"
  }
 },
 "nbformat": 4,
 "nbformat_minor": 5
}
